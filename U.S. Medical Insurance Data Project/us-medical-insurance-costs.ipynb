{
 "cells": [
  {
   "cell_type": "markdown",
   "metadata": {},
   "source": [
    "# U.S. Medical Insurance \n",
    "### **Business Intelligence Data Analysis Project**"
   ]
  },
  {
   "cell_type": "markdown",
   "metadata": {},
   "source": [
    "---\n",
    "### **Description**\n",
    "\n",
    "- This notebook is part of a project designed to develop and demonstrate skills in business intelligence and data analysis. The focus is to perform data analysis using Python by implementing key programming and analytical techniques.\n",
    "---\n",
    "### **Project Objectives**\n",
    "\n",
    "#### 1. **Work locally on your own computer**\n",
    "- All tasks are performed locally, ensuring familiarity with file management and local development tools.\n",
    "\n",
    "#### 2. **Import a dataset into your program**\n",
    "- Load data from files (e.g., CSV, Excel, etc.) and prepare it for analysis by addressing any data loading issues.\n",
    "\n",
    "#### 3. **Analyze a dataset by building out functions or class methods**\n",
    "- Write reusable functions or classes to clean, process, and extract insights from the data.\n",
    "\n",
    "#### 4. **Use libraries to assist in your analysis**\n",
    "- Leverage Python libraries such as `pandas`, `NumPy`, and `matplotlib` for data manipulation, computation, and visualization.\n",
    "---\n",
    "### **Optional Objectives**\n",
    "\n",
    "#### 5. **Document and organize your findings**\n",
    "- Summarize insights, observations, and results to ensure clarity and potential sharing.\n",
    "\n",
    "#### 6. **Make predictions about a dataset’s features based on your findings**\n",
    "- Apply predictive modeling techniques (optional) to make informed projections about dataset trends.\n",
    "---\n"
   ]
  },
  {
   "cell_type": "code",
   "execution_count": 372,
   "metadata": {},
   "outputs": [],
   "source": [
    "import csv  # Importing the CSV module\n",
    "\n",
    "# Setting Variables\n",
    "file_path = 'insurance.csv'  # Replace with the path to your CSV file\n",
    "\n",
    "#################################################################################################################\n",
    "\n",
    "# Function to load data from a CSV file\n",
    "def load_csv_data():\n",
    "    \"\"\"\n",
    "    This function reads data from a CSV file and returns a list of dictionaries.\n",
    "    Each dictionary represents one row in the CSV, with keys as column headers.\n",
    "    \"\"\"\n",
    "    with open(file_path, mode='r') as file:  # Open the file in read mode\n",
    "        reader = csv.DictReader(file)  # Read the file as a dictionary\n",
    "        return [row for row in reader]  # Convert the rows to a list of dictionaries\n",
    "\n",
    "# Function to convert string values in a dictionary to numbers where applicable\n",
    "def str_to_num(row):\n",
    "    \"\"\"\n",
    "    Converts all numeric strings in a dictionary row to int or float.\n",
    "    Leaves non-numeric values unchanged.\n",
    "\n",
    "    Parameters:\n",
    "    - row: A dictionary representing a single row of the CSV file.\n",
    "    \n",
    "    Returns:\n",
    "    - A cleaned dictionary with numeric values converted.\n",
    "    \"\"\"\n",
    "    for key, value in row.items():  # Loop through each key-value pair\n",
    "        if value is None or value == '':  # Skip None or empty string values\n",
    "            row[key] = 0  # Replace missing values with 0\n",
    "        try:\n",
    "            # Check if the value is a string and contains a decimal point\n",
    "            if isinstance(value, str) and '.' in value:\n",
    "                row[key] = float(value)  # Convert to a float\n",
    "            elif isinstance(value, str) and value.isdigit():\n",
    "                row[key] = int(value)  # Convert to an integer\n",
    "        except ValueError:\n",
    "            # Leave the value unchanged if it's not convertible\n",
    "            pass\n",
    "    return row\n",
    "\n",
    "# Function to extract values from a specific column\n",
    "def get_column_values(column_name):\n",
    "    \"\"\"\n",
    "    Extracts all values from a specific column in the CSV file.\n",
    "\n",
    "    Parameters:\n",
    "    - column_name: The name of the column to extract values from.\n",
    "\n",
    "    Returns:\n",
    "    - A list of values from the specified column, converted to numbers if applicable.\n",
    "    \"\"\"\n",
    "    data = load_csv_data()  # Load data from the CSV file\n",
    "    data = [str_to_num(row) for row in data]  # Apply str_to_num to clean data\n",
    "    return [row[column_name] for row in data]  # Extract values for the given column\n",
    "\n",
    "def count_group_instances(group_dict=None, column=None):\n",
    "    \"\"\"\n",
    "    Counts the instances of members of a group defined by a dictionary or unique column values.\n",
    "\n",
    "    Parameters:\n",
    "    - data: List of dictionaries (cleaned data).\n",
    "    - group_dict: (Optional) A dictionary where keys define the groups (e.g., age ranges),\n",
    "                  and values provide group descriptions. If None, counts unique values in the column.\n",
    "    - column: The column in the data to check against the groups.\n",
    "\n",
    "    Returns:\n",
    "    - A dictionary where keys are group descriptions or unique values and values are counts.\n",
    "    \"\"\"\n",
    "    if not column:\n",
    "        raise ValueError(\"A column must be specified for grouping.\")\n",
    "\n",
    "    group_counts = {}\n",
    "\n",
    "    if group_dict:  # If a dictionary is provided for grouping\n",
    "        group_counts = {description: 0 for description in group_dict.values()}  # Initialize group counts\n",
    "\n",
    "        for row in cleaned_data:\n",
    "            value = row.get(column)  # Extract the value from the specified column\n",
    "            if not isinstance(value, (int, float)) and not group_dict:  # Skip invalid or non-numeric values\n",
    "                continue\n",
    "\n",
    "            for range_key, description in group_dict.items():\n",
    "                # Process ranges\n",
    "                if \"-\" in range_key:  # Closed range\n",
    "                    low, high = map(int, range_key.split(\"-\"))\n",
    "                    if isinstance(value, (int, float)) and low <= value <= high:\n",
    "                        group_counts[description] += 1\n",
    "                        break\n",
    "                elif \"+\" in range_key:  # Open-ended range\n",
    "                    low = int(range_key.split(\"+\")[0])\n",
    "                    if isinstance(value, (int, float)) and value >= low:\n",
    "                        group_counts[description] += 1\n",
    "                        break\n",
    "\n",
    "    else:  # If no group_dict, count unique values in the column\n",
    "        group_counts = {}\n",
    "        for row in cleaned_data:\n",
    "            value = row.get(column)\n",
    "            if value is None or value == '':\n",
    "                value = \"Unknown\"  # Handle missing or empty values\n",
    "            group_counts[value] = group_counts.get(value, 0) + 1\n",
    "\n",
    "    return group_counts\n",
    "\n",
    "\n",
    "###############################################################################################################3\n",
    "\n",
    "# Process data\n",
    "data = load_csv_data()  # Load the raw data\n",
    "cleaned_data = [str_to_num(row) for row in data]  # Clean the data using str_to_num\n",
    "\n",
    "# Extract information\n",
    "customer_qty = len(cleaned_data)  # Get the total number of customers\n",
    "ages_lst = get_column_values('age') # Extract the 'age' column\n",
    "genders_lst = get_column_values('sex')  # Extract the 'sex' column\n",
    "bmi = get_column_values('bmi')  # Extract the 'bmi' column\n",
    "children = get_column_values('children')  # Extract the 'children' column\n",
    "smoker = get_column_values('smoker')  # Extract the 'smoker' column\n",
    "region = get_column_values('region')  # Extract the 'region' column\n",
    "charges = get_column_values('charges')  # Extract the 'charges' column\n"
   ]
  },
  {
   "cell_type": "code",
   "execution_count": 373,
   "metadata": {},
   "outputs": [
    {
     "name": "stdout",
     "output_type": "stream",
     "text": [
      "Age-related findings:\n",
      "\n",
      "    - Average Age: The mean age of individuals in the dataset is 39 years.\n",
      "    - Oldest Age: The oldest age in the dataset is 64 years.\n",
      "    - Youngest Age: The youngest age in the dataset is 18 years.\n",
      "\n",
      "    - Age Distribution by Group: \n",
      "        -Children/Minors (0-17): 0\n",
      "        -Young Adults (18-24): 278\n",
      "        -Early Career (25-34): 271\n",
      "        -Mid-Career Adults (35-44): 260\n",
      "        -Pre-Senior Adults (45-54): 287\n",
      "        -Early Retirees (55-64): 242\n",
      "        -Medicare-Eligible Seniors (65+): 0\n",
      "\n",
      "\n"
     ]
    }
   ],
   "source": [
    "# Average age calculation\n",
    "avg_age = sum([age for age in ages_lst ]) / customer_qty  # The mean age of individuals in the dataset\n",
    "\n",
    "# Define age groups for categorization\n",
    "age_groups = {\n",
    "    \"0-17\": \"children/minors\",\n",
    "    \"18-24\": \"young adults\",\n",
    "    \"25-34\": \"early career\",\n",
    "    \"35-44\": \"mid-career adults\",\n",
    "    \"45-54\": \"pre-senior adults\",\n",
    "    \"55-64\": \"early retirees\",\n",
    "    \"65+\": \"Medicare-eligible seniors\",\n",
    "}  # Group ages into bins showing the max age for each group, or minimal age in case of 65+'s\n",
    "\n",
    "# Calculate age distribution\n",
    "age_distribution = count_group_instances(age_groups, 'age')\n",
    "\n",
    "# Find oldest and youngest ages\n",
    "oldest_age = max([age for age in ages_lst])\n",
    "youngest_age = min([age for age in ages_lst])\n",
    "\n",
    "# Format age distribution into a multiline string\n",
    "age_distribution_lines = \"\\n\".join([\n",
    "    f\"        -{description.title()} ({range_key}): {value}\" #prints each group age range in a new line\n",
    "    for range_key, description in age_groups.items() \n",
    "    for key, value in age_distribution.items() \n",
    "    if description == key #This filters out mismatched items, if any.\n",
    "    ])\n",
    "\n",
    "# Print findings\n",
    "print(f'''Age-related findings:\n",
    "\n",
    "    - Average Age: The mean age of individuals in the dataset is {avg_age:.0f} years.\n",
    "    - Oldest Age: The oldest age in the dataset is {oldest_age} years.\n",
    "    - Youngest Age: The youngest age in the dataset is {youngest_age} years.\n",
    "\n",
    "    - Age Distribution by Group: \n",
    "{age_distribution_lines}\n",
    "\n",
    "''')"
   ]
  },
  {
   "cell_type": "code",
   "execution_count": 412,
   "metadata": {},
   "outputs": [
    {
     "name": "stdout",
     "output_type": "stream",
     "text": [
      "{'female': 12569.578843835347, 'male': 13956.751177721893}\n",
      "[('female', 'yes'), ('male', 'no'), ('male', 'no'), ('male', 'no'), ('male', 'no'), ('female', 'no'), ('female', 'no'), ('female', 'no'), ('male', 'no'), ('female', 'no'), ('male', 'no'), ('female', 'yes'), ('male', 'no'), ('female', 'no'), ('male', 'yes'), ('male', 'no'), ('female', 'no'), ('male', 'no'), ('male', 'no'), ('male', 'yes'), ('female', 'no'), ('female', 'no'), ('male', 'no'), ('female', 'yes'), ('male', 'no'), ('female', 'no'), ('female', 'no'), ('female', 'no'), ('male', 'no'), ('male', 'yes'), ('male', 'yes'), ('female', 'no'), ('female', 'no'), ('male', 'no'), ('male', 'yes'), ('male', 'no'), ('female', 'no'), ('male', 'no'), ('male', 'yes'), ('male', 'yes'), ('female', 'no'), ('female', 'no'), ('male', 'no'), ('female', 'no'), ('male', 'no'), ('male', 'no'), ('female', 'no'), ('female', 'no'), ('female', 'no'), ('male', 'yes'), ('female', 'no'), ('female', 'no'), ('male', 'yes'), ('male', 'yes'), ('female', 'no'), ('male', 'yes'), ('female', 'no'), ('male', 'yes'), ('female', 'yes'), ('female', 'no'), ('male', 'no'), ('male', 'no'), ('male', 'no'), ('female', 'no'), ('female', 'yes'), ('female', 'no'), ('female', 'no'), ('male', 'no'), ('female', 'no'), ('male', 'yes'), ('female', 'yes'), ('male', 'no'), ('female', 'no'), ('male', 'no'), ('male', 'no'), ('male', 'no'), ('female', 'no'), ('male', 'no'), ('female', 'no'), ('female', 'no'), ('male', 'no'), ('female', 'no'), ('male', 'yes'), ('female', 'no'), ('female', 'yes'), ('male', 'yes'), ('female', 'yes'), ('female', 'no'), ('female', 'no'), ('female', 'no'), ('female', 'no'), ('female', 'no'), ('male', 'yes'), ('male', 'no'), ('female', 'yes'), ('female', 'no'), ('female', 'no'), ('male', 'no'), ('male', 'yes'), ('male', 'yes'), ('female', 'no'), ('male', 'no'), ('female', 'no'), ('female', 'yes'), ('female', 'no'), ('male', 'yes'), ('female', 'no'), ('male', 'no'), ('male', 'no'), ('male', 'yes'), ('male', 'no'), ('female', 'no'), ('male', 'no'), ('female', 'no'), ('male', 'no'), ('male', 'no'), ('male', 'no'), ('female', 'yes'), ('female', 'no'), ('female', 'no'), ('male', 'no'), ('male', 'no'), ('female', 'no'), ('male', 'yes'), ('female', 'no'), ('female', 'no'), ('female', 'yes'), ('female', 'no'), ('female', 'yes'), ('male', 'no'), ('female', 'no'), ('female', 'no'), ('female', 'no'), ('male', 'no'), ('female', 'no'), ('female', 'no'), ('male', 'no'), ('male', 'no'), ('female', 'no'), ('female', 'no'), ('male', 'no'), ('male', 'no'), ('male', 'yes'), ('male', 'no'), ('male', 'yes'), ('female', 'no'), ('male', 'yes'), ('female', 'no'), ('female', 'no'), ('male', 'no'), ('male', 'no'), ('male', 'no'), ('female', 'no'), ('female', 'yes'), ('female', 'no'), ('male', 'no'), ('male', 'yes'), ('male', 'yes'), ('male', 'yes'), ('female', 'no'), ('female', 'yes'), ('female', 'yes'), ('male', 'no'), ('female', 'no'), ('male', 'no'), ('male', 'no'), ('female', 'no'), ('female', 'no'), ('female', 'no'), ('male', 'no'), ('male', 'no'), ('male', 'no'), ('male', 'no'), ('female', 'no'), ('female', 'no'), ('female', 'yes'), ('male', 'no'), ('male', 'no'), ('female', 'no'), ('female', 'no'), ('male', 'no'), ('female', 'no'), ('male', 'no'), ('female', 'no'), ('male', 'no'), ('male', 'yes'), ('female', 'no'), ('female', 'no'), ('female', 'no'), ('female', 'no'), ('male', 'no'), ('female', 'no'), ('male', 'no'), ('female', 'no'), ('male', 'no'), ('male', 'no'), ('female', 'no'), ('female', 'no'), ('female', 'no'), ('female', 'no'), ('female', 'no'), ('female', 'no'), ('female', 'no'), ('female', 'yes'), ('male', 'no'), ('female', 'no'), ('male', 'no'), ('male', 'yes'), ('female', 'no'), ('male', 'no'), ('male', 'no'), ('male', 'no'), ('male', 'no'), ('female', 'no'), ('female', 'no'), ('female', 'no'), ('female', 'no'), ('male', 'no'), ('female', 'no'), ('female', 'no'), ('female', 'no'), ('female', 'no'), ('male', 'no'), ('male', 'yes'), ('male', 'yes'), ('male', 'no'), ('male', 'no'), ('female', 'no'), ('female', 'no'), ('male', 'no'), ('female', 'no'), ('female', 'no'), ('female', 'no'), ('male', 'no'), ('male', 'no'), ('female', 'yes'), ('female', 'no'), ('male', 'no'), ('male', 'yes'), ('male', 'no'), ('female', 'yes'), ('female', 'no'), ('female', 'no'), ('male', 'no'), ('female', 'yes'), ('male', 'no'), ('female', 'no'), ('male', 'no'), ('male', 'no'), ('male', 'no'), ('male', 'yes'), ('female', 'yes'), ('male', 'yes'), ('male', 'no'), ('male', 'yes'), ('female', 'no'), ('male', 'yes'), ('female', 'no'), ('male', 'no'), ('male', 'yes'), ('female', 'no'), ('female', 'yes'), ('male', 'yes'), ('male', 'yes'), ('female', 'no'), ('male', 'yes'), ('male', 'yes'), ('female', 'no'), ('male', 'no'), ('male', 'no'), ('male', 'no'), ('male', 'yes'), ('male', 'no'), ('male', 'no'), ('male', 'no'), ('female', 'no'), ('male', 'no'), ('female', 'no'), ('male', 'no'), ('female', 'no'), ('female', 'yes'), ('male', 'yes'), ('male', 'no'), ('female', 'no'), ('female', 'no'), ('male', 'no'), ('female', 'no'), ('female', 'no'), ('female', 'yes'), ('male', 'no'), ('female', 'no'), ('male', 'no'), ('male', 'yes'), ('female', 'no'), ('male', 'no'), ('male', 'no'), ('male', 'yes'), ('male', 'yes'), ('male', 'yes'), ('female', 'no'), ('male', 'no'), ('female', 'yes'), ('female', 'no'), ('female', 'no'), ('female', 'no'), ('male', 'no'), ('female', 'no'), ('female', 'no'), ('male', 'no'), ('female', 'no'), ('male', 'no'), ('female', 'no'), ('male', 'yes'), ('male', 'no'), ('female', 'yes'), ('male', 'no'), ('male', 'no'), ('male', 'no'), ('female', 'no'), ('male', 'no'), ('male', 'no'), ('female', 'no'), ('male', 'yes'), ('male', 'no'), ('male', 'no'), ('male', 'no'), ('female', 'no'), ('male', 'yes'), ('female', 'yes'), ('male', 'no'), ('female', 'yes'), ('male', 'yes'), ('female', 'no'), ('female', 'no'), ('female', 'no'), ('male', 'no'), ('male', 'no'), ('male', 'no'), ('male', 'yes'), ('female', 'no'), ('female', 'no'), ('male', 'no'), ('female', 'no'), ('male', 'no'), ('female', 'no'), ('female', 'no'), ('male', 'no'), ('male', 'no'), ('female', 'no'), ('male', 'no'), ('female', 'no'), ('female', 'no'), ('female', 'no'), ('male', 'no'), ('female', 'no'), ('male', 'no'), ('male', 'no'), ('male', 'no'), ('male', 'no'), ('female', 'no'), ('female', 'no'), ('male', 'no'), ('female', 'yes'), ('female', 'no'), ('female', 'no'), ('female', 'no'), ('female', 'no'), ('female', 'no'), ('male', 'no'), ('male', 'no'), ('female', 'no'), ('female', 'no'), ('female', 'no'), ('male', 'yes'), ('male', 'no'), ('female', 'yes'), ('female', 'yes'), ('male', 'yes'), ('female', 'no'), ('male', 'no'), ('female', 'yes'), ('male', 'yes'), ('male', 'no'), ('female', 'no'), ('male', 'no'), ('male', 'no'), ('female', 'no'), ('male', 'no'), ('female', 'no'), ('female', 'no'), ('male', 'no'), ('female', 'no'), ('male', 'no'), ('male', 'no'), ('female', 'no'), ('male', 'no'), ('female', 'no'), ('male', 'no'), ('male', 'no'), ('female', 'no'), ('female', 'no'), ('male', 'no'), ('female', 'no'), ('male', 'no'), ('male', 'no'), ('female', 'no'), ('female', 'no'), ('female', 'no'), ('male', 'no'), ('male', 'no'), ('male', 'no'), ('female', 'yes'), ('female', 'yes'), ('male', 'no'), ('female', 'no'), ('female', 'no'), ('male', 'no'), ('female', 'yes'), ('male', 'no'), ('female', 'yes'), ('male', 'yes'), ('male', 'yes'), ('male', 'yes'), ('male', 'no'), ('male', 'no'), ('male', 'no'), ('female', 'no'), ('female', 'no'), ('female', 'no'), ('female', 'no'), ('male', 'no'), ('female', 'no'), ('male', 'no'), ('female', 'no'), ('male', 'no'), ('male', 'no'), ('male', 'no'), ('male', 'no'), ('female', 'no'), ('male', 'no'), ('female', 'no'), ('female', 'yes'), ('male', 'no'), ('female', 'no'), ('male', 'yes'), ('female', 'no'), ('male', 'no'), ('female', 'no'), ('female', 'no'), ('male', 'no'), ('male', 'no'), ('male', 'no'), ('male', 'no'), ('male', 'no'), ('male', 'no'), ('male', 'no'), ('female', 'no'), ('female', 'no'), ('male', 'no'), ('female', 'no'), ('female', 'no'), ('male', 'yes'), ('female', 'no'), ('male', 'no'), ('male', 'no'), ('female', 'yes'), ('female', 'no'), ('female', 'no'), ('female', 'no'), ('female', 'no'), ('male', 'no'), ('female', 'no'), ('female', 'no'), ('female', 'no'), ('male', 'yes'), ('male', 'yes'), ('male', 'yes'), ('male', 'no'), ('male', 'no'), ('male', 'no'), ('male', 'no'), ('male', 'no'), ('female', 'no'), ('female', 'no'), ('male', 'no'), ('female', 'no'), ('female', 'no'), ('male', 'no'), ('female', 'yes'), ('male', 'no'), ('female', 'no'), ('female', 'no'), ('female', 'no'), ('male', 'no'), ('male', 'yes'), ('male', 'no'), ('female', 'no'), ('male', 'no'), ('female', 'no'), ('female', 'no'), ('male', 'yes'), ('male', 'no'), ('male', 'yes'), ('male', 'yes'), ('female', 'no'), ('male', 'no'), ('male', 'no'), ('male', 'no'), ('female', 'no'), ('female', 'no'), ('male', 'no'), ('male', 'no'), ('male', 'no'), ('male', 'no'), ('male', 'yes'), ('male', 'no'), ('male', 'no'), ('male', 'no'), ('female', 'no'), ('male', 'no'), ('female', 'no'), ('female', 'no'), ('female', 'no'), ('female', 'no'), ('male', 'yes'), ('female', 'no'), ('female', 'no'), ('female', 'no'), ('male', 'no'), ('male', 'no'), ('male', 'yes'), ('female', 'no'), ('male', 'no'), ('male', 'no'), ('male', 'no'), ('male', 'no'), ('female', 'no'), ('female', 'no'), ('female', 'no'), ('male', 'no'), ('female', 'no'), ('female', 'no'), ('female', 'no'), ('female', 'yes'), ('male', 'no'), ('male', 'yes'), ('male', 'no'), ('female', 'no'), ('female', 'no'), ('female', 'yes'), ('male', 'no'), ('female', 'no'), ('male', 'no'), ('female', 'no'), ('female', 'no'), ('male', 'no'), ('male', 'no'), ('male', 'no'), ('female', 'yes'), ('male', 'no'), ('female', 'no'), ('female', 'no'), ('male', 'no'), ('male', 'no'), ('female', 'no'), ('female', 'no'), ('female', 'no'), ('male', 'no'), ('female', 'no'), ('male', 'yes'), ('female', 'no'), ('female', 'no'), ('female', 'no'), ('female', 'no'), ('female', 'no'), ('female', 'no'), ('male', 'no'), ('female', 'yes'), ('male', 'no'), ('female', 'no'), ('male', 'no'), ('male', 'no'), ('male', 'no'), ('female', 'no'), ('male', 'no'), ('female', 'no'), ('male', 'no'), ('female', 'yes'), ('female', 'no'), ('female', 'no'), ('female', 'no'), ('male', 'no'), ('male', 'no'), ('female', 'yes'), ('male', 'no'), ('female', 'no'), ('female', 'no'), ('female', 'no'), ('male', 'no'), ('female', 'no'), ('female', 'no'), ('male', 'no'), ('female', 'no'), ('female', 'no'), ('female', 'yes'), ('female', 'no'), ('female', 'no'), ('female', 'yes'), ('male', 'no'), ('male', 'yes'), ('female', 'no'), ('female', 'no'), ('female', 'no'), ('female', 'no'), ('female', 'no'), ('female', 'yes'), ('female', 'no'), ('male', 'yes'), ('female', 'yes'), ('female', 'no'), ('male', 'no'), ('male', 'yes'), ('female', 'no'), ('male', 'yes'), ('male', 'no'), ('female', 'no'), ('male', 'no'), ('male', 'no'), ('male', 'no'), ('female', 'yes'), ('male', 'no'), ('male', 'no'), ('female', 'no'), ('male', 'no'), ('male', 'no'), ('male', 'no'), ('female', 'no'), ('female', 'no'), ('male', 'yes'), ('male', 'no'), ('male', 'no'), ('male', 'yes'), ('male', 'no'), ('female', 'no'), ('male', 'no'), ('male', 'no'), ('male', 'no'), ('female', 'no'), ('male', 'no'), ('female', 'no'), ('female', 'no'), ('female', 'no'), ('female', 'no'), ('female', 'no'), ('female', 'no'), ('female', 'yes'), ('female', 'no'), ('male', 'no'), ('female', 'no'), ('female', 'no'), ('male', 'no'), ('female', 'no'), ('female', 'no'), ('male', 'no'), ('female', 'yes'), ('male', 'yes'), ('male', 'no'), ('female', 'yes'), ('male', 'yes'), ('female', 'no'), ('male', 'no'), ('female', 'no'), ('male', 'no'), ('female', 'no'), ('female', 'yes'), ('male', 'no'), ('female', 'no'), ('male', 'yes'), ('male', 'no'), ('female', 'no'), ('female', 'no'), ('male', 'no'), ('male', 'yes'), ('male', 'no'), ('female', 'no'), ('male', 'no'), ('male', 'no'), ('male', 'no'), ('female', 'no'), ('male', 'yes'), ('male', 'no'), ('male', 'no'), ('male', 'no'), ('male', 'no'), ('female', 'no'), ('female', 'no'), ('female', 'no'), ('male', 'yes'), ('male', 'no'), ('female', 'no'), ('female', 'no'), ('female', 'no'), ('male', 'no'), ('female', 'no'), ('female', 'no'), ('female', 'no'), ('female', 'yes'), ('male', 'no'), ('female', 'no'), ('female', 'no'), ('male', 'no'), ('female', 'no'), ('female', 'no'), ('male', 'no'), ('female', 'no'), ('male', 'no'), ('female', 'no'), ('male', 'no'), ('female', 'no'), ('female', 'no'), ('female', 'no'), ('male', 'no'), ('male', 'no'), ('male', 'no'), ('female', 'no'), ('female', 'yes'), ('male', 'no'), ('female', 'yes'), ('female', 'no'), ('female', 'no'), ('male', 'yes'), ('male', 'no'), ('female', 'no'), ('female', 'no'), ('female', 'no'), ('female', 'no'), ('female', 'yes'), ('male', 'no'), ('male', 'yes'), ('male', 'yes'), ('male', 'no'), ('male', 'yes'), ('male', 'yes'), ('female', 'no'), ('male', 'no'), ('female', 'no'), ('male', 'no'), ('male', 'no'), ('female', 'no'), ('male', 'no'), ('female', 'yes'), ('male', 'no'), ('male', 'no'), ('female', 'no'), ('male', 'no'), ('male', 'no'), ('female', 'no'), ('female', 'yes'), ('male', 'no'), ('male', 'yes'), ('female', 'no'), ('male', 'no'), ('male', 'yes'), ('male', 'no'), ('female', 'no'), ('female', 'no'), ('male', 'no'), ('female', 'no'), ('female', 'no'), ('female', 'no'), ('male', 'no'), ('female', 'no'), ('female', 'no'), ('female', 'yes'), ('male', 'no'), ('male', 'no'), ('male', 'no'), ('male', 'no'), ('male', 'no'), ('male', 'no'), ('male', 'yes'), ('male', 'no'), ('male', 'no'), ('female', 'yes'), ('female', 'no'), ('female', 'no'), ('male', 'no'), ('male', 'no'), ('male', 'no'), ('female', 'no'), ('female', 'no'), ('male', 'no'), ('female', 'no'), ('male', 'yes'), ('female', 'no'), ('male', 'yes'), ('male', 'no'), ('female', 'no'), ('female', 'no'), ('male', 'yes'), ('female', 'no'), ('female', 'no'), ('male', 'no'), ('female', 'yes'), ('male', 'no'), ('female', 'no'), ('female', 'no'), ('female', 'no'), ('male', 'no'), ('male', 'no'), ('female', 'no'), ('female', 'no'), ('male', 'no'), ('male', 'no'), ('male', 'no'), ('female', 'no'), ('female', 'no'), ('male', 'no'), ('female', 'yes'), ('female', 'yes'), ('male', 'no'), ('male', 'no'), ('female', 'no'), ('female', 'no'), ('male', 'no'), ('female', 'no'), ('male', 'yes'), ('male', 'yes'), ('male', 'yes'), ('male', 'no'), ('male', 'no'), ('female', 'no'), ('female', 'no'), ('male', 'no'), ('male', 'no'), ('male', 'no'), ('male', 'no'), ('female', 'no'), ('female', 'no'), ('female', 'no'), ('male', 'no'), ('male', 'no'), ('female', 'yes'), ('female', 'yes'), ('male', 'no'), ('female', 'yes'), ('female', 'no'), ('male', 'no'), ('female', 'no'), ('male', 'no'), ('female', 'yes'), ('male', 'no'), ('female', 'yes'), ('female', 'no'), ('female', 'yes'), ('female', 'no'), ('female', 'yes'), ('male', 'yes'), ('female', 'no'), ('male', 'no'), ('female', 'yes'), ('female', 'no'), ('female', 'no'), ('female', 'no'), ('male', 'no'), ('male', 'no'), ('male', 'no'), ('male', 'no'), ('male', 'no'), ('female', 'no'), ('male', 'no'), ('female', 'no'), ('male', 'no'), ('male', 'no'), ('male', 'no'), ('female', 'no'), ('female', 'no'), ('male', 'no'), ('male', 'no'), ('female', 'no'), ('male', 'no'), ('male', 'no'), ('female', 'no'), ('female', 'yes'), ('male', 'no'), ('male', 'yes'), ('male', 'yes'), ('female', 'no'), ('male', 'no'), ('male', 'no'), ('female', 'yes'), ('female', 'no'), ('male', 'no'), ('male', 'yes'), ('male', 'no'), ('female', 'no'), ('female', 'yes'), ('male', 'no'), ('female', 'no'), ('female', 'no'), ('male', 'no'), ('male', 'yes'), ('male', 'no'), ('male', 'no'), ('female', 'no'), ('female', 'no'), ('male', 'no'), ('female', 'no'), ('male', 'no'), ('female', 'yes'), ('male', 'no'), ('male', 'yes'), ('female', 'no'), ('female', 'no'), ('male', 'no'), ('female', 'no'), ('female', 'yes'), ('male', 'yes'), ('female', 'no'), ('female', 'no'), ('female', 'no'), ('female', 'no'), ('male', 'no'), ('male', 'no'), ('male', 'no'), ('male', 'no'), ('female', 'no'), ('female', 'no'), ('female', 'no'), ('male', 'no'), ('male', 'no'), ('female', 'no'), ('male', 'no'), ('female', 'no'), ('male', 'no'), ('female', 'no'), ('male', 'no'), ('female', 'no'), ('male', 'no'), ('male', 'no'), ('male', 'no'), ('female', 'no'), ('female', 'no'), ('male', 'no'), ('male', 'no'), ('female', 'no'), ('male', 'no'), ('male', 'yes'), ('male', 'no'), ('male', 'yes'), ('male', 'no'), ('male', 'yes'), ('female', 'no'), ('male', 'yes'), ('male', 'yes'), ('male', 'no'), ('male', 'yes'), ('male', 'no'), ('male', 'yes'), ('male', 'no'), ('female', 'no'), ('female', 'no'), ('female', 'no'), ('male', 'no'), ('male', 'no'), ('male', 'no'), ('male', 'yes'), ('male', 'no'), ('male', 'no'), ('female', 'no'), ('female', 'no'), ('female', 'no'), ('female', 'no'), ('female', 'no'), ('male', 'no'), ('male', 'yes'), ('male', 'no'), ('male', 'no'), ('female', 'no'), ('female', 'no'), ('male', 'no'), ('male', 'no'), ('male', 'yes'), ('female', 'no'), ('male', 'no'), ('female', 'no'), ('male', 'no'), ('female', 'no'), ('male', 'no'), ('female', 'yes'), ('female', 'no'), ('female', 'no'), ('female', 'no'), ('male', 'no'), ('female', 'yes'), ('female', 'no'), ('female', 'no'), ('female', 'no'), ('female', 'no'), ('female', 'no'), ('male', 'yes'), ('male', 'yes'), ('male', 'no'), ('male', 'no'), ('male', 'no'), ('male', 'no'), ('male', 'no'), ('male', 'yes'), ('male', 'no'), ('male', 'no'), ('female', 'no'), ('male', 'yes'), ('female', 'no'), ('male', 'no'), ('female', 'no'), ('male', 'no'), ('female', 'no'), ('female', 'no'), ('female', 'no'), ('female', 'no'), ('male', 'no'), ('female', 'yes'), ('male', 'yes'), ('male', 'no'), ('female', 'no'), ('female', 'no'), ('male', 'yes'), ('male', 'no'), ('male', 'no'), ('female', 'no'), ('female', 'yes'), ('female', 'yes'), ('female', 'no'), ('male', 'yes'), ('male', 'no'), ('female', 'no'), ('male', 'yes'), ('female', 'yes'), ('male', 'no'), ('male', 'no'), ('female', 'yes'), ('male', 'no'), ('male', 'yes'), ('female', 'no'), ('male', 'no'), ('female', 'yes'), ('female', 'no'), ('male', 'yes'), ('female', 'no'), ('male', 'yes'), ('female', 'no'), ('male', 'no'), ('male', 'no'), ('male', 'yes'), ('female', 'no'), ('male', 'no'), ('female', 'no'), ('female', 'no'), ('female', 'no'), ('male', 'no'), ('male', 'no'), ('male', 'no'), ('male', 'yes'), ('male', 'no'), ('female', 'no'), ('female', 'no'), ('male', 'no'), ('male', 'no'), ('male', 'no'), ('female', 'no'), ('male', 'yes'), ('male', 'no'), ('male', 'no'), ('female', 'no'), ('female', 'no'), ('female', 'no'), ('female', 'no'), ('male', 'no'), ('male', 'yes'), ('male', 'no'), ('male', 'no'), ('male', 'no'), ('male', 'no'), ('male', 'no'), ('female', 'no'), ('female', 'yes'), ('male', 'no'), ('male', 'no'), ('male', 'no'), ('male', 'no'), ('male', 'yes'), ('female', 'no'), ('male', 'no'), ('female', 'yes'), ('female', 'no'), ('female', 'no'), ('female', 'yes'), ('male', 'no'), ('female', 'no'), ('female', 'no'), ('female', 'yes'), ('male', 'no'), ('male', 'no'), ('male', 'no'), ('male', 'no'), ('female', 'no'), ('female', 'no'), ('female', 'no'), ('male', 'no'), ('male', 'no'), ('female', 'no'), ('male', 'yes'), ('female', 'yes'), ('female', 'no'), ('male', 'no'), ('male', 'no'), ('male', 'no'), ('male', 'yes'), ('male', 'yes'), ('female', 'no'), ('female', 'yes'), ('male', 'no'), ('female', 'yes'), ('female', 'no'), ('female', 'yes'), ('female', 'no'), ('male', 'no'), ('female', 'no'), ('male', 'no'), ('female', 'no'), ('female', 'no'), ('male', 'no'), ('male', 'no'), ('female', 'no'), ('male', 'no'), ('female', 'no'), ('female', 'no'), ('female', 'no'), ('male', 'no'), ('female', 'yes'), ('male', 'no'), ('female', 'no'), ('female', 'no'), ('male', 'no'), ('male', 'no'), ('male', 'no'), ('male', 'yes'), ('female', 'no'), ('male', 'no'), ('male', 'no'), ('female', 'no'), ('female', 'no'), ('female', 'yes'), ('female', 'no'), ('female', 'no'), ('female', 'no'), ('male', 'yes'), ('female', 'no'), ('female', 'no'), ('female', 'no'), ('female', 'no'), ('male', 'no'), ('male', 'no'), ('female', 'no'), ('female', 'no'), ('female', 'no'), ('male', 'no'), ('female', 'no'), ('male', 'no'), ('female', 'no'), ('male', 'yes'), ('female', 'yes'), ('female', 'no'), ('male', 'no'), ('male', 'no'), ('female', 'no'), ('female', 'yes'), ('female', 'no'), ('female', 'no'), ('male', 'yes'), ('female', 'no'), ('female', 'no'), ('female', 'no'), ('female', 'no'), ('female', 'yes'), ('male', 'no'), ('male', 'yes'), ('female', 'no'), ('female', 'yes'), ('female', 'no'), ('female', 'no'), ('female', 'no'), ('female', 'no'), ('female', 'no'), ('female', 'no'), ('female', 'no'), ('female', 'yes'), ('male', 'no'), ('male', 'no'), ('female', 'no'), ('male', 'no'), ('male', 'no'), ('male', 'no'), ('male', 'no'), ('female', 'yes'), ('male', 'no'), ('female', 'no'), ('male', 'yes'), ('female', 'yes'), ('male', 'no'), ('male', 'no'), ('male', 'no'), ('male', 'no'), ('female', 'no'), ('female', 'no'), ('male', 'no'), ('male', 'no'), ('male', 'no'), ('female', 'yes'), ('female', 'no'), ('female', 'no'), ('male', 'no'), ('male', 'no'), ('female', 'yes'), ('male', 'no'), ('female', 'no'), ('male', 'no'), ('male', 'no'), ('male', 'no'), ('male', 'no'), ('male', 'yes'), ('female', 'yes'), ('female', 'no'), ('male', 'no'), ('female', 'no'), ('male', 'no'), ('female', 'no'), ('female', 'no'), ('male', 'no'), ('female', 'no'), ('male', 'yes'), ('male', 'yes'), ('female', 'no'), ('female', 'no'), ('male', 'no'), ('male', 'no'), ('female', 'no'), ('male', 'no'), ('female', 'no'), ('male', 'yes'), ('male', 'yes'), ('male', 'no'), ('male', 'yes'), ('female', 'no'), ('female', 'no'), ('female', 'no'), ('female', 'no'), ('female', 'no'), ('male', 'no'), ('female', 'no'), ('female', 'no'), ('male', 'no'), ('female', 'no'), ('female', 'no'), ('female', 'no'), ('male', 'yes'), ('female', 'no'), ('male', 'yes'), ('female', 'no'), ('male', 'no'), ('male', 'no'), ('female', 'no'), ('male', 'no'), ('male', 'no'), ('male', 'yes'), ('male', 'no'), ('female', 'no'), ('female', 'no'), ('male', 'yes'), ('female', 'no'), ('female', 'no'), ('female', 'yes'), ('female', 'yes'), ('male', 'no'), ('male', 'yes'), ('female', 'no'), ('female', 'no'), ('female', 'no'), ('male', 'yes'), ('male', 'no'), ('female', 'no'), ('male', 'yes'), ('male', 'no'), ('male', 'no'), ('male', 'no'), ('male', 'no'), ('male', 'no'), ('female', 'no'), ('male', 'no'), ('female', 'no'), ('male', 'yes'), ('male', 'yes'), ('female', 'no'), ('male', 'yes'), ('male', 'yes'), ('female', 'no'), ('female', 'yes'), ('male', 'yes'), ('female', 'yes'), ('male', 'no'), ('male', 'no'), ('female', 'no'), ('male', 'no'), ('female', 'yes'), ('female', 'yes'), ('male', 'no'), ('female', 'no'), ('male', 'no'), ('male', 'no'), ('female', 'no'), ('male', 'no'), ('male', 'yes'), ('male', 'no'), ('female', 'yes'), ('male', 'no'), ('male', 'no'), ('female', 'no'), ('male', 'no'), ('female', 'no'), ('male', 'no'), ('female', 'no'), ('female', 'no'), ('female', 'no'), ('male', 'no'), ('female', 'no'), ('female', 'no'), ('female', 'no'), ('female', 'yes')]\n"
     ]
    }
   ],
   "source": [
    "gender_dist = count_group_instances(None, 'sex')\n",
    "avg_charges_by_gender = { \n",
    "    key: sum([\n",
    "        charge for gender, \n",
    "        charge in zip(genders_lst, charges) \n",
    "        if gender == key\n",
    "    ]) / gender_dist[key]\n",
    "    for key in gender_dist\n",
    "}\n",
    "print(avg_charges_by_gender)\n",
    "\n",
    "print(list(zip(genders_lst, smoker)))\n",
    "    \n",
    "# '''\n",
    "# 2. Sex\n",
    "\n",
    "#     Gender Distribution: Count the number of males and females.\n",
    "#     Average Charges by Gender: Calculate the mean charges for males and females.\n",
    "#     Smoker Proportion by Gender: Compare the percentage of smokers within each gender.\n",
    "# '''"
   ]
  },
  {
   "cell_type": "code",
   "execution_count": 413,
   "metadata": {},
   "outputs": [
    {
     "data": {
      "text/plain": [
       "'\\n3. BMI (Body Mass Index)\\n\\n    Average BMI: The mean BMI across all individuals.\\n    BMI Categories:\\n        Underweight (BMI < 18.5)\\n        Normal weight (18.5 ≤ BMI < 25)\\n        Overweight (25 ≤ BMI < 30)\\n        Obesity (BMI ≥ 30)\\n        Count individuals in each category.\\n    Correlation with Charges: Analyze the relationship between BMI and charges.\\n'"
      ]
     },
     "execution_count": 413,
     "metadata": {},
     "output_type": "execute_result"
    }
   ],
   "source": [
    "\n",
    "'''\n",
    "3. BMI (Body Mass Index)\n",
    "\n",
    "    Average BMI: The mean BMI across all individuals.\n",
    "    BMI Categories:\n",
    "        Underweight (BMI < 18.5)\n",
    "        Normal weight (18.5 ≤ BMI < 25)\n",
    "        Overweight (25 ≤ BMI < 30)\n",
    "        Obesity (BMI ≥ 30)\n",
    "        Count individuals in each category.\n",
    "    Correlation with Charges: Analyze the relationship between BMI and charges.\n",
    "'''"
   ]
  },
  {
   "cell_type": "code",
   "execution_count": 414,
   "metadata": {},
   "outputs": [
    {
     "data": {
      "text/plain": [
       "'4. Children\\n\\n    Average Number of Children: The mean number of children per individual.\\n    Proportion with No Children: Percentage of individuals without children.\\n    Average Charges by Number of Children: Analyze how the number of children impacts charges.\\n'"
      ]
     },
     "execution_count": 414,
     "metadata": {},
     "output_type": "execute_result"
    }
   ],
   "source": [
    "\n",
    "'''4. Children\n",
    "\n",
    "    Average Number of Children: The mean number of children per individual.\n",
    "    Proportion with No Children: Percentage of individuals without children.\n",
    "    Average Charges by Number of Children: Analyze how the number of children impacts charges.\n",
    "'''"
   ]
  },
  {
   "cell_type": "code",
   "execution_count": 415,
   "metadata": {},
   "outputs": [
    {
     "data": {
      "text/plain": [
       "'\\n5. Smoker\\n\\n    Smoker vs. Non-Smoker Proportion: Percentage of smokers and non-smokers.\\n    Average Charges for Smokers vs. Non-Smokers: Compare the mean charges for both groups.\\n    Correlation Between Smoking and Region: Check if smokers are concentrated in certain regions.\\n'"
      ]
     },
     "execution_count": 415,
     "metadata": {},
     "output_type": "execute_result"
    }
   ],
   "source": [
    "\n",
    "'''\n",
    "5. Smoker\n",
    "\n",
    "    Smoker vs. Non-Smoker Proportion: Percentage of smokers and non-smokers.\n",
    "    Average Charges for Smokers vs. Non-Smokers: Compare the mean charges for both groups.\n",
    "    Correlation Between Smoking and Region: Check if smokers are concentrated in certain regions.\n",
    "'''"
   ]
  },
  {
   "cell_type": "code",
   "execution_count": 416,
   "metadata": {},
   "outputs": [
    {
     "data": {
      "text/plain": [
       "'\\n6. Region\\n\\n    Population Distribution by Region: Count individuals in each region (e.g., southeast, southwest).\\n    Average BMI by Region: Analyze the mean BMI for individuals in each region.\\n    Average Charges by Region: Calculate the mean charges for each region.\\n'"
      ]
     },
     "execution_count": 416,
     "metadata": {},
     "output_type": "execute_result"
    }
   ],
   "source": [
    "\n",
    "'''\n",
    "6. Region\n",
    "\n",
    "    Population Distribution by Region: Count individuals in each region (e.g., southeast, southwest).\n",
    "    Average BMI by Region: Analyze the mean BMI for individuals in each region.\n",
    "    Average Charges by Region: Calculate the mean charges for each region.\n",
    "'''"
   ]
  },
  {
   "cell_type": "code",
   "execution_count": 417,
   "metadata": {},
   "outputs": [
    {
     "data": {
      "text/plain": [
       "'\\n7. Charges\\n\\n    Average Charges: The mean charges across all individuals.\\n    Median Charges: The median charges, which can give insights into central tendency.\\n    Highest and Lowest Charges: Identify the maximum and minimum charges in the dataset.\\n    Charges Distribution: Visualize the charges using a histogram or boxplot.\\n    Correlation with Other Variables:\\n        Charges vs. Age\\n        Charges vs. BMI\\n        Charges vs. Number of Children\\n'"
      ]
     },
     "execution_count": 417,
     "metadata": {},
     "output_type": "execute_result"
    }
   ],
   "source": [
    "\n",
    "'''\n",
    "7. Charges\n",
    "\n",
    "    Average Charges: The mean charges across all individuals.\n",
    "    Median Charges: The median charges, which can give insights into central tendency.\n",
    "    Highest and Lowest Charges: Identify the maximum and minimum charges in the dataset.\n",
    "    Charges Distribution: Visualize the charges using a histogram or boxplot.\n",
    "    Correlation with Other Variables:\n",
    "        Charges vs. Age\n",
    "        Charges vs. BMI\n",
    "        Charges vs. Number of Children\n",
    "'''"
   ]
  },
  {
   "cell_type": "code",
   "execution_count": 418,
   "metadata": {},
   "outputs": [],
   "source": [
    "\n",
    "'''Cross-Metrics\n",
    "\n",
    "    Smoker and Region Impact on Charges: Analyze if certain regions have higher charges for smokers.\n",
    "    Age and BMI Correlation: Check if there's a relationship between age and BMI.\n",
    "    Impact of Children on Charges by Gender: Investigate how charges vary with the number of children, broken down by gender.\n",
    "'''\n",
    "\n",
    "\n",
    "def calculate_proportion_by_group(condition_column, group_column, group_values, condition_value, group_counts):\n",
    "    \"\"\"\n",
    "    Calculates the proportion of a specific condition (e.g., smokers) for each group (e.g., gender).\n",
    "    \n",
    "    Parameters:\n",
    "    - condition_column: List containing the condition values (e.g., ['yes', 'no', 'yes'] for smokers).\n",
    "    - group_column: List containing the group values (e.g., ['male', 'female', 'male'] for genders).\n",
    "    - group_values: List of unique group values to calculate proportions for (e.g., ['male', 'female']).\n",
    "    - condition_value: The value in condition_column to count (e.g., 'yes' for smokers).\n",
    "    - group_counts: Dictionary containing the total counts of each group (e.g., {'male': 3, 'female': 2}).\n",
    "\n",
    "    Returns:\n",
    "    - Dictionary with proportions of the condition for each group.\n",
    "    \"\"\"\n",
    "    proportions = {}\n",
    "    for group in group_values:\n",
    "        count = sum(\n",
    "            1 for group_value, condition in zip(group_column, condition_column)\n",
    "            if group_value == group and condition == condition_value\n",
    "        )\n",
    "        proportions[group] = count / group_counts[group]\n",
    "    return proportions\n"
   ]
  }
 ],
 "metadata": {
  "kernelspec": {
   "display_name": "Python 3",
   "language": "python",
   "name": "python3"
  },
  "language_info": {
   "codemirror_mode": {
    "name": "ipython",
    "version": 3
   },
   "file_extension": ".py",
   "mimetype": "text/x-python",
   "name": "python",
   "nbconvert_exporter": "python",
   "pygments_lexer": "ipython3",
   "version": "3.12.7"
  }
 },
 "nbformat": 4,
 "nbformat_minor": 4
}
